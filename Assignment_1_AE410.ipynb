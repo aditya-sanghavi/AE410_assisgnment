{
 "cells": [
  {
   "cell_type": "markdown",
   "id": "02cd6c99",
   "metadata": {},
   "source": [
    "Assignment 1 - 20B30005 - Aditya Sanghavi"
   ]
  },
  {
   "cell_type": "markdown",
   "id": "97c0f441",
   "metadata": {},
   "source": [
    "Question 1"
   ]
  },
  {
   "cell_type": "markdown",
   "id": "906e9324",
   "metadata": {},
   "source": [
    "$ C_{i}(\\eta - \\tau) $ is the PRN code for the $ i^{th} $ satellite"
   ]
  },
  {
   "cell_type": "markdown",
   "id": "beaf1a12",
   "metadata": {},
   "source": [
    "$ C_{i}(\\eta) = C_{i}(\\eta + 1023) $ the PRN codes are periodic with 1023 chips = 1 millisecond"
   ]
  },
  {
   "cell_type": "code",
   "execution_count": null,
   "id": "eef5776d",
   "metadata": {},
   "outputs": [],
   "source": []
  },
  {
   "cell_type": "code",
   "execution_count": 3,
   "id": "81a6218c",
   "metadata": {},
   "outputs": [],
   "source": [
    "import numpy as np\n",
    "import pandas as pd\n",
    "import matplotlib.pyplot as plt\n",
    "import scipy"
   ]
  },
  {
   "cell_type": "code",
   "execution_count": 4,
   "id": "1c6432d6",
   "metadata": {},
   "outputs": [
    {
     "ename": "AttributeError",
     "evalue": "module 'scipy' has no attribute 'io'",
     "output_type": "error",
     "traceback": [
      "\u001b[1;31m---------------------------------------------------------------------------\u001b[0m",
      "\u001b[1;31mAttributeError\u001b[0m                            Traceback (most recent call last)",
      "\u001b[1;32m<ipython-input-4-8a704cc3014c>\u001b[0m in \u001b[0;36m<module>\u001b[1;34m\u001b[0m\n\u001b[1;32m----> 1\u001b[1;33m \u001b[0mcodesFile\u001b[0m \u001b[1;33m=\u001b[0m \u001b[0mscipy\u001b[0m\u001b[1;33m.\u001b[0m\u001b[0mio\u001b[0m\u001b[1;33m.\u001b[0m\u001b[0mloadmat\u001b[0m\u001b[1;33m(\u001b[0m\u001b[1;34m\"PRN_Data/codes_L1CA.mat\"\u001b[0m\u001b[1;33m)\u001b[0m\u001b[1;33m\u001b[0m\u001b[1;33m\u001b[0m\u001b[0m\n\u001b[0m\u001b[0;32m      2\u001b[0m \u001b[0mcodes\u001b[0m \u001b[1;33m=\u001b[0m \u001b[0mnp\u001b[0m\u001b[1;33m.\u001b[0m\u001b[0marray\u001b[0m\u001b[1;33m(\u001b[0m\u001b[0mcodesFile\u001b[0m\u001b[1;33m[\u001b[0m\u001b[1;34m'codes_L1CA'\u001b[0m\u001b[1;33m]\u001b[0m\u001b[1;33m)\u001b[0m\u001b[1;33m\u001b[0m\u001b[1;33m\u001b[0m\u001b[0m\n",
      "\u001b[1;31mAttributeError\u001b[0m: module 'scipy' has no attribute 'io'"
     ]
    }
   ],
   "source": [
    "codesFile = scipy.io.loadmat(\"PRN_Data/codes_L1CA.mat\")\n",
    "codes = np.array(codesFile['codes_L1CA'])"
   ]
  },
  {
   "cell_type": "code",
   "execution_count": null,
   "id": "d13064b1",
   "metadata": {},
   "outputs": [],
   "source": []
  }
 ],
 "metadata": {
  "kernelspec": {
   "display_name": "Python 3",
   "language": "python",
   "name": "python3"
  },
  "language_info": {
   "codemirror_mode": {
    "name": "ipython",
    "version": 3
   },
   "file_extension": ".py",
   "mimetype": "text/x-python",
   "name": "python",
   "nbconvert_exporter": "python",
   "pygments_lexer": "ipython3",
   "version": "3.8.8"
  }
 },
 "nbformat": 4,
 "nbformat_minor": 5
}
